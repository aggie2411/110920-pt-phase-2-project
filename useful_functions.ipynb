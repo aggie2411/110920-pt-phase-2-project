{
 "cells": [
  {
   "cell_type": "code",
   "execution_count": 6,
   "metadata": {},
   "outputs": [],
   "source": [
    "def concat_col(df, newcol, col1, col2):\n",
    "    df[newcol] = df[col1].str.strip() + df[col2].str.strip()\n",
    "    \n",
    "\n"
   ]
  },
  {
   "cell_type": "code",
   "execution_count": 5,
   "metadata": {},
   "outputs": [],
   "source": [
    "def lookup(df, lu_type, lu_item=None):\n",
    "    \"\"\"\n",
    "    Return a dataframe from 'df' with 'LUType' == lu_type\n",
    "    and 'LUItem' == lu_item (if specified)\n",
    "    \"\"\"\n",
    "    if lu_item:\n",
    "        return df[(df.LUType == str(lu_type)) & (df.LUItem == str(lu_item))]\n",
    "    else:\n",
    "        return df[(df.LUType == str(lu_type))]"
   ]
  },
  {
   "cell_type": "code",
   "execution_count": 4,
   "metadata": {},
   "outputs": [],
   "source": [
    "def add_two(a,b):\n",
    "    return a+b"
   ]
  },
  {
   "cell_type": "code",
   "execution_count": null,
   "metadata": {},
   "outputs": [],
   "source": []
  }
 ],
 "metadata": {
  "kernelspec": {
   "display_name": "Python [conda env:geo-env]",
   "language": "python",
   "name": "conda-env-geo-env-py"
  },
  "language_info": {
   "codemirror_mode": {
    "name": "ipython",
    "version": 3
   },
   "file_extension": ".py",
   "mimetype": "text/x-python",
   "name": "python",
   "nbconvert_exporter": "python",
   "pygments_lexer": "ipython3",
   "version": "3.9.2"
  }
 },
 "nbformat": 4,
 "nbformat_minor": 4
}
